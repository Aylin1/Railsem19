{
 "cells": [
  {
   "cell_type": "code",
   "execution_count": 5,
   "metadata": {},
   "outputs": [],
   "source": [
    "path=r\"C:\\Users\\AylinGülüm\\Downloads\\RailSecondDataset\\1_calibration_1.1_labels.json\""
   ]
  },
  {
   "cell_type": "code",
   "execution_count": 9,
   "metadata": {},
   "outputs": [],
   "source": [
    "import raillabel\n",
    "import decimal\n",
    "\n",
    "scene = raillabel.load(path)\n",
    "\n",
    "scene_with_only_trains = raillabel.filter(\n",
    "    scene,\n",
    "    include_object_types=['train']\n",
    ")\n",
    "scene_without_bboxs = raillabel.filter(\n",
    "    scene,\n",
    "    exclude_annotation_types=['bbox']\n",
    ")\n",
    "cut_scene_with_only_red_trains = raillabel.filter(\n",
    "    scene,\n",
    "    start_timestamp=decimal.Decimal('1587349200.004200000'),\n",
    "    exclude_frames=[4, 2],\n",
    "    include_object_types=['vegetation'],\n",
    "    include_attributes={\n",
    "        'color': 'red'\n",
    "    }\n",
    ")\n",
    "scene_with_annotations_with_an_attribute = raillabel.filter(\n",
    "    scene,\n",
    "    include_attributes={ # All annotations with the color\n",
    "        'color': None    # attribute will be included,\n",
    "    }                    # regardless of color value.\n",
    ")"
   ]
  },
  {
   "cell_type": "code",
   "execution_count": 13,
   "metadata": {},
   "outputs": [],
   "source": [
    "scene_with_only_vegetation = raillabel.filter(\n",
    "    scene,\n",
    "    include_object_types=['vegetation']\n",
    ")"
   ]
  },
  {
   "cell_type": "code",
   "execution_count": 15,
   "metadata": {},
   "outputs": [
    {
     "data": {
      "text/plain": [
       "[FrameInterval(frame_start=12, frame_end=21)]"
      ]
     },
     "execution_count": 15,
     "metadata": {},
     "output_type": "execute_result"
    }
   ],
   "source": [
    "scene_with_only_vegetation.frame_intervals"
   ]
  },
  {
   "cell_type": "code",
   "execution_count": 16,
   "metadata": {},
   "outputs": [
    {
     "data": {
      "text/plain": [
       "{12: Frame(uid=12, timestamp=Decimal('1631441453.299504000'), sensors={}, frame_data={}, annotations={}),\n",
       " 13: Frame(uid=13, timestamp=Decimal('1631441453.399930000'), sensors={}, frame_data={}, annotations={}),\n",
       " 14: Frame(uid=14, timestamp=Decimal('1631441453.499971000'), sensors={}, frame_data={}, annotations={}),\n",
       " 15: Frame(uid=15, timestamp=Decimal('1631441453.599813000'), sensors={}, frame_data={}, annotations={}),\n",
       " 16: Frame(uid=16, timestamp=Decimal('1631441453.699672000'), sensors={}, frame_data={}, annotations={}),\n",
       " 17: Frame(uid=17, timestamp=Decimal('1631441453.799506000'), sensors={}, frame_data={}, annotations={}),\n",
       " 18: Frame(uid=18, timestamp=Decimal('1631441453.899950000'), sensors={}, frame_data={}, annotations={}),\n",
       " 19: Frame(uid=19, timestamp=Decimal('1631441453.999986000'), sensors={}, frame_data={}, annotations={}),\n",
       " 20: Frame(uid=20, timestamp=Decimal('1631441454.099827000'), sensors={}, frame_data={}, annotations={}),\n",
       " 21: Frame(uid=21, timestamp=Decimal('1631441454.199653000'), sensors={}, frame_data={}, annotations={})}"
      ]
     },
     "execution_count": 16,
     "metadata": {},
     "output_type": "execute_result"
    }
   ],
   "source": [
    "scene_with_only_vegetation.frames"
   ]
  },
  {
   "cell_type": "code",
   "execution_count": 12,
   "metadata": {},
   "outputs": [
    {
     "data": {
      "text/plain": [
       "{12: Frame(uid=12, timestamp=Decimal('1631441453.299504000'), sensors={}, frame_data={}, annotations={}),\n",
       " 13: Frame(uid=13, timestamp=Decimal('1631441453.399930000'), sensors={}, frame_data={}, annotations={}),\n",
       " 14: Frame(uid=14, timestamp=Decimal('1631441453.499971000'), sensors={}, frame_data={}, annotations={}),\n",
       " 15: Frame(uid=15, timestamp=Decimal('1631441453.599813000'), sensors={}, frame_data={}, annotations={}),\n",
       " 16: Frame(uid=16, timestamp=Decimal('1631441453.699672000'), sensors={}, frame_data={}, annotations={}),\n",
       " 17: Frame(uid=17, timestamp=Decimal('1631441453.799506000'), sensors={}, frame_data={}, annotations={}),\n",
       " 18: Frame(uid=18, timestamp=Decimal('1631441453.899950000'), sensors={}, frame_data={}, annotations={}),\n",
       " 19: Frame(uid=19, timestamp=Decimal('1631441453.999986000'), sensors={}, frame_data={}, annotations={}),\n",
       " 20: Frame(uid=20, timestamp=Decimal('1631441454.099827000'), sensors={}, frame_data={}, annotations={}),\n",
       " 21: Frame(uid=21, timestamp=Decimal('1631441454.199653000'), sensors={}, frame_data={}, annotations={})}"
      ]
     },
     "execution_count": 12,
     "metadata": {},
     "output_type": "execute_result"
    }
   ],
   "source": [
    "cut_scene_with_only_red_trains.frames"
   ]
  },
  {
   "cell_type": "code",
   "execution_count": 10,
   "metadata": {},
   "outputs": [
    {
     "data": {
      "text/plain": [
       "{12: Frame(uid=12, timestamp=Decimal('1631441453.299504000'), sensors={}, frame_data={}, annotations={}),\n",
       " 13: Frame(uid=13, timestamp=Decimal('1631441453.399930000'), sensors={}, frame_data={}, annotations={}),\n",
       " 14: Frame(uid=14, timestamp=Decimal('1631441453.499971000'), sensors={}, frame_data={}, annotations={}),\n",
       " 15: Frame(uid=15, timestamp=Decimal('1631441453.599813000'), sensors={}, frame_data={}, annotations={}),\n",
       " 16: Frame(uid=16, timestamp=Decimal('1631441453.699672000'), sensors={}, frame_data={}, annotations={}),\n",
       " 17: Frame(uid=17, timestamp=Decimal('1631441453.799506000'), sensors={}, frame_data={}, annotations={}),\n",
       " 18: Frame(uid=18, timestamp=Decimal('1631441453.899950000'), sensors={}, frame_data={}, annotations={}),\n",
       " 19: Frame(uid=19, timestamp=Decimal('1631441453.999986000'), sensors={}, frame_data={}, annotations={}),\n",
       " 20: Frame(uid=20, timestamp=Decimal('1631441454.099827000'), sensors={}, frame_data={}, annotations={}),\n",
       " 21: Frame(uid=21, timestamp=Decimal('1631441454.199653000'), sensors={}, frame_data={}, annotations={})}"
      ]
     },
     "execution_count": 10,
     "metadata": {},
     "output_type": "execute_result"
    }
   ],
   "source": [
    "scene_with_annotations_with_an_attribute.frames"
   ]
  },
  {
   "cell_type": "code",
   "execution_count": null,
   "metadata": {},
   "outputs": [],
   "source": []
  }
 ],
 "metadata": {
  "kernelspec": {
   "display_name": "base",
   "language": "python",
   "name": "python3"
  },
  "language_info": {
   "codemirror_mode": {
    "name": "ipython",
    "version": 3
   },
   "file_extension": ".py",
   "mimetype": "text/x-python",
   "name": "python",
   "nbconvert_exporter": "python",
   "pygments_lexer": "ipython3",
   "version": "3.9.12"
  }
 },
 "nbformat": 4,
 "nbformat_minor": 2
}
